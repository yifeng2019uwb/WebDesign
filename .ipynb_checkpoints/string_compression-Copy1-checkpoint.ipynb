{
 "cells": [
  {
   "cell_type": "code",
   "execution_count": 11,
   "metadata": {},
   "outputs": [],
   "source": [
    "# Problem: String compression\n",
    "# Implement a string compresion using python. For example, \n",
    "\n",
    "# Time complexity of def compress: \n",
    "# O(n), because there are only one loop when interate/retrieve the string data\n",
    "# Space complexity is O(1) - only use one int (count)\n",
    "\n",
    "def compress(string):\n",
    "    # Initial the variable, start from the first char and count = 1   \n",
    "    result = string[0]\n",
    "    count = 1\n",
    "    \n",
    "    #Interate the string from 1 - len(string) \n",
    "    for i in range(1, len(string)):\n",
    "        # if current char equals to the previous, count++\n",
    "        # or writing in the result with compress format\n",
    "        if (string[i] == string[i - 1]):\n",
    "            count += 1\n",
    "        else:\n",
    "            \n",
    "            # ignore if no repeats(count = 1)\n",
    "            # only consider count > 1\n",
    "            if(count > 1):\n",
    "            # add the count number into result \n",
    "                result += str(count)\n",
    "            # start counting new char: add new current char and set count = 1\n",
    "            result += string[i]\n",
    "            count = 1\n",
    "            \n",
    "            \n",
    "    # Add the last count into result\n",
    "    if (count > 1):\n",
    "        result += str(count)\n",
    "            \n",
    "    return result\n",
    "        \n",
    "    \n",
    "    "
   ]
  },
  {
   "cell_type": "code",
   "execution_count": 12,
   "metadata": {},
   "outputs": [
    {
     "data": {
      "text/plain": [
       "'b2c2e4'"
      ]
     },
     "execution_count": 12,
     "metadata": {},
     "output_type": "execute_result"
    }
   ],
   "source": [
    "compress(\"bbcceeee\")"
   ]
  },
  {
   "cell_type": "code",
   "execution_count": 13,
   "metadata": {},
   "outputs": [
    {
     "data": {
      "text/plain": [
       "'a3b3c3a2'"
      ]
     },
     "execution_count": 13,
     "metadata": {},
     "output_type": "execute_result"
    }
   ],
   "source": [
    "compress(\"aaabbbcccaa\")"
   ]
  },
  {
   "cell_type": "code",
   "execution_count": 14,
   "metadata": {},
   "outputs": [
    {
     "data": {
      "text/plain": [
       "'a'"
      ]
     },
     "execution_count": 14,
     "metadata": {},
     "output_type": "execute_result"
    }
   ],
   "source": [
    "compress(\"a\")"
   ]
  },
  {
   "cell_type": "code",
   "execution_count": 15,
   "metadata": {},
   "outputs": [],
   "source": [
    "assert compress(\"bbcceeee\") == 'b2c2e4'"
   ]
  },
  {
   "cell_type": "code",
   "execution_count": null,
   "metadata": {},
   "outputs": [],
   "source": []
  }
 ],
 "metadata": {
  "kernelspec": {
   "display_name": "Python 3",
   "language": "python",
   "name": "python3"
  },
  "language_info": {
   "codemirror_mode": {
    "name": "ipython",
    "version": 3
   },
   "file_extension": ".py",
   "mimetype": "text/x-python",
   "name": "python",
   "nbconvert_exporter": "python",
   "pygments_lexer": "ipython3",
   "version": "3.8.3"
  }
 },
 "nbformat": 4,
 "nbformat_minor": 4
}
