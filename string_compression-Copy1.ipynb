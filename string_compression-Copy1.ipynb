{
 "cells": [
  {
   "cell_type": "code",
   "execution_count": 11,
   "metadata": {},
   "outputs": [],
   "source": [
    "# Problem: String compression\n",
    "# Implement a string compresion using python. For example, \n",
    "\n",
    "# Time complexity of def compress: \n",
    "# O(n), because there are only one loop when interate/retrieve the string data\n",
    "# Space complexity is O(1) - only use one int (count)\n",
    "\n",
    "def compress(string):\n",
    "    # Initial the variable, start from the first char and count = 1   \n",
    "    result = string[0]\n",
    "    count = 1\n",
    "    \n",
    "    #Interate the string from 1 - len(string) \n",
    "    for i in range(1, len(string)):\n",
    "        # if current char equals to the previous, count++\n",
    "        # or writing in the result with compress format\n",
    "        if (string[i] == string[i - 1]):\n",
    "            count += 1\n",
    "        else:\n",
    "            \n",
    "            # ignore if no repeats(count = 1)\n",
    "            # only consider count > 1\n",
    "            if(count > 1):\n",
    "            # add the count number into result \n",
    "                result += str(count)\n",
    "            # start counting new char: add new current char and set count = 1\n",
    "            result += string[i]\n",
    "            count = 1\n",
    "            \n",
    "            \n",
    "    # Add the last count into result\n",
    "    if (count > 1):\n",
    "        result += str(count)\n",
    "            \n",
    "    return result\n",
    "        \n",
    "    \n",
    "    "
   ]
  },
  {
   "cell_type": "code",
   "execution_count": 4,
   "metadata": {},
   "outputs": [
    {
     "ename": "NameError",
     "evalue": "name 'compress' is not defined",
     "output_type": "error",
     "traceback": [
      "\u001b[0;31m---------------------------------------------------------------------------\u001b[0m",
      "\u001b[0;31mNameError\u001b[0m                                 Traceback (most recent call last)",
      "\u001b[0;32m<ipython-input-4-81d88d2ad25a>\u001b[0m in \u001b[0;36m<module>\u001b[0;34m\u001b[0m\n\u001b[0;32m----> 1\u001b[0;31m \u001b[0;32massert\u001b[0m \u001b[0mcompress\u001b[0m\u001b[0;34m(\u001b[0m\u001b[0;34m\"bbcceeee\"\u001b[0m\u001b[0;34m)\u001b[0m \u001b[0;34m==\u001b[0m \u001b[0;34m'b2c2e4'\u001b[0m\u001b[0;34m\u001b[0m\u001b[0;34m\u001b[0m\u001b[0m\n\u001b[0m\u001b[1;32m      2\u001b[0m \u001b[0;32massert\u001b[0m \u001b[0mcompress\u001b[0m\u001b[0;34m(\u001b[0m\u001b[0;34m\"aaabbbcccaa\"\u001b[0m\u001b[0;34m)\u001b[0m \u001b[0;34m==\u001b[0m \u001b[0;34m'a3b3c3a2'\u001b[0m\u001b[0;34m\u001b[0m\u001b[0;34m\u001b[0m\u001b[0m\n\u001b[1;32m      3\u001b[0m \u001b[0;32massert\u001b[0m \u001b[0mcompress\u001b[0m\u001b[0;34m(\u001b[0m\u001b[0;34m\"a\"\u001b[0m\u001b[0;34m)\u001b[0m \u001b[0;34m==\u001b[0m \u001b[0;34m'a'\u001b[0m\u001b[0;34m\u001b[0m\u001b[0;34m\u001b[0m\u001b[0m\n",
      "\u001b[0;31mNameError\u001b[0m: name 'compress' is not defined"
     ]
    }
   ],
   "source": [
    "assert compress(\"bbcceeee\") == 'b2c2e4'\n",
    "assert compress(\"aaabbbcccaa\") == 'a3b3c3a2'\n",
    "assert compress(\"a\") == 'a'\n"
   ]
  },
  {
   "cell_type": "code",
   "execution_count": 13,
   "metadata": {},
   "outputs": [
    {
     "data": {
      "text/plain": [
       "'a3b3c3a2'"
      ]
     },
     "execution_count": 13,
     "metadata": {},
     "output_type": "execute_result"
    }
   ],
   "source": [
    "compress(\"aaabbbcccaa\")"
   ]
  },
  {
   "cell_type": "code",
   "execution_count": 14,
   "metadata": {},
   "outputs": [
    {
     "data": {
      "text/plain": [
       "'a'"
      ]
     },
     "execution_count": 14,
     "metadata": {},
     "output_type": "execute_result"
    }
   ],
   "source": [
    "compress(\"a\")"
   ]
  },
  {
   "cell_type": "code",
   "execution_count": 15,
   "metadata": {},
   "outputs": [],
   "source": [
    "assert compress(\"bbcceeee\") == 'b2c2e4'"
   ]
  },
  {
   "cell_type": "code",
   "execution_count": null,
   "metadata": {},
   "outputs": [],
   "source": []
  }
 ],
 "metadata": {
  "kernelspec": {
   "display_name": "Python 3",
   "language": "python",
   "name": "python3"
  },
  "language_info": {
   "codemirror_mode": {
    "name": "ipython",
    "version": 3
   },
   "file_extension": ".py",
   "mimetype": "text/x-python",
   "name": "python",
   "nbconvert_exporter": "python",
   "pygments_lexer": "ipython3",
   "version": "3.8.3"
  }
 },
 "nbformat": 4,
 "nbformat_minor": 4
}
